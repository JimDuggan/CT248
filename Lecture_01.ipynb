{
  "nbformat": 4,
  "nbformat_minor": 0,
  "metadata": {
    "colab": {
      "provenance": [],
      "authorship_tag": "ABX9TyP8OpxLuk6qXNq9/sEkSZSC",
      "include_colab_link": true
    },
    "kernelspec": {
      "name": "python3",
      "display_name": "Python 3"
    },
    "language_info": {
      "name": "python"
    }
  },
  "cells": [
    {
      "cell_type": "markdown",
      "metadata": {
        "id": "view-in-github",
        "colab_type": "text"
      },
      "source": [
        "<a href=\"https://colab.research.google.com/github/JimDuggan/CT248/blob/main/Lecture_01.ipynb\" target=\"_parent\"><img src=\"https://colab.research.google.com/assets/colab-badge.svg\" alt=\"Open In Colab\"/></a>"
      ]
    },
    {
      "cell_type": "markdown",
      "source": [
        "# Lecture 1 - Introduction"
      ],
      "metadata": {
        "id": "OU4ftYs_Zb06"
      }
    },
    {
      "cell_type": "markdown",
      "source": [
        "\n",
        "\n",
        "*   [Arrays](#array)\n",
        "\n",
        "*   List item\n",
        "\n"
      ],
      "metadata": {
        "id": "q0UKm7rXVDoq"
      }
    },
    {
      "cell_type": "markdown",
      "source": [],
      "metadata": {
        "id": "83uENK1WYzTK"
      }
    },
    {
      "cell_type": "code",
      "source": [],
      "metadata": {
        "id": "n9vbzBCJYzzP"
      },
      "execution_count": null,
      "outputs": []
    },
    {
      "cell_type": "markdown",
      "source": [],
      "metadata": {
        "id": "t2jpz9eAW_IM"
      }
    },
    {
      "cell_type": "code",
      "source": [],
      "metadata": {
        "id": "h9Qr5aWQWpvl"
      },
      "execution_count": null,
      "outputs": []
    },
    {
      "cell_type": "markdown",
      "source": [],
      "metadata": {
        "id": "v8OPrgjOV-GR"
      }
    },
    {
      "cell_type": "code",
      "execution_count": null,
      "metadata": {
        "id": "7y1JBgZUdZhq",
        "outputId": "f4d5885a-9061-40c4-d9aa-a312456c0a97",
        "colab": {
          "base_uri": "https://localhost:8080/"
        }
      },
      "outputs": [
        {
          "output_type": "stream",
          "name": "stdout",
          "text": [
            "[[1 2]\n",
            " [3 4]]\n"
          ]
        }
      ],
      "source": [
        "# prompt: create matrix\n",
        "\n",
        "import numpy as np\n",
        "a = np.array([[1,2],[3,4]])\n",
        "print(a)\n"
      ]
    },
    {
      "cell_type": "markdown",
      "source": [
        "# Tutorial"
      ],
      "metadata": {
        "id": "b-OTk0y9SSU8"
      }
    },
    {
      "cell_type": "markdown",
      "source": [
        "This is a new section"
      ],
      "metadata": {
        "id": "xr6t2J31SS8e"
      }
    },
    {
      "cell_type": "markdown",
      "source": [],
      "metadata": {
        "id": "qf6U_BqWSiT1"
      }
    },
    {
      "cell_type": "code",
      "source": [
        "import test as t\n",
        "t.hello()"
      ],
      "metadata": {
        "colab": {
          "base_uri": "https://localhost:8080/"
        },
        "id": "iZsHRBHQSqHD",
        "outputId": "f2f46fef-a528-42df-9598-5f8dfcb6028a"
      },
      "execution_count": null,
      "outputs": [
        {
          "output_type": "stream",
          "name": "stdout",
          "text": [
            "Hello, world\n"
          ]
        }
      ]
    },
    {
      "cell_type": "code",
      "source": [],
      "metadata": {
        "id": "ZcmkCCeRSnwl"
      },
      "execution_count": null,
      "outputs": []
    },
    {
      "cell_type": "markdown",
      "source": [],
      "metadata": {
        "id": "ZfAIaksmSokg"
      }
    },
    {
      "cell_type": "markdown",
      "source": [],
      "metadata": {
        "id": "40hS3PhBUqX_"
      }
    },
    {
      "cell_type": "markdown",
      "source": [
        "# Arrays\n",
        "\n"
      ],
      "metadata": {
        "id": "s8Rtqy2CS8An"
      }
    },
    {
      "cell_type": "markdown",
      "source": [],
      "metadata": {
        "id": "-K_YBEElU5KB"
      }
    },
    {
      "cell_type": "code",
      "source": [],
      "metadata": {
        "id": "LvgDaF2zTEyv"
      },
      "execution_count": null,
      "outputs": []
    },
    {
      "cell_type": "markdown",
      "source": [],
      "metadata": {
        "id": "dyk0_Qa1S9a-"
      }
    }
  ]
}